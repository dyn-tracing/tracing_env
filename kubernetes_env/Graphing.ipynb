{
 "cells": [
  {
   "cell_type": "code",
   "execution_count": 1,
   "id": "290cd591-e105-4a73-9c45-0470f9dba5c6",
   "metadata": {},
   "outputs": [],
   "source": [
    "#!/usr/bin/env python3\n",
    "import seaborn as sns\n",
    "import numpy as np\n",
    "import pandas as pd\n",
    "import matplotlib.pyplot as plt\n",
    "import pathlib"
   ]
  },
  {
   "cell_type": "code",
   "execution_count": 2,
   "id": "df82092f-186f-45ff-931d-e57162152580",
   "metadata": {},
   "outputs": [],
   "source": [
    "import pathlib\n",
    "path = pathlib.Path().absolute()\n",
    "graph_lib = path.joinpath(\"benchmark\").joinpath(\"graphs\")\n",
    "import kube_env\n",
    "import kube_util as util"
   ]
  },
  {
   "cell_type": "code",
   "execution_count": 3,
   "id": "3b97c33b-0fff-429b-b495-350e321b7cf8",
   "metadata": {},
   "outputs": [],
   "source": [
    "filters = [\"online_boutique_benchmark_no_filter_40_horizontal_stats\", \n",
    "           \"online_boutique_benchmark_empty_filter_40_horizontal_rs-empty-filter_stats\",\n",
    "           \"online_boutique_benchmark_snicket_filter_distributed_40_horizontal_snicket_filter_distributed_stats\"\n",
    "          ]\n",
    "stats = []\n",
    "for filter in filters:\n",
    "    stats.append(f\"{graph_lib}/autoscaling_experiments/{filter}.csv\")\n",
    "#filters.append(\"no_filter\")\n",
    "#stats.append(f\"{graph_lib}/online_boutique_benchmark_stats.csv\")\n"
   ]
  },
  {
   "cell_type": "code",
   "execution_count": 4,
   "id": "0ee8ff8e-1ffc-41bc-965e-35cf14d729aa",
   "metadata": {},
   "outputs": [
    {
     "name": "stdout",
     "output_type": "stream",
     "text": [
      "/Users/jessicaberg/Documents/Tracing/tracing_env/kubernetes_env/benchmark/graphs/autoscaling_experiments/online_boutique_benchmark_no_filter_40_horizontal_stats.csv\n",
      "/Users/jessicaberg/Documents/Tracing/tracing_env/kubernetes_env/benchmark/graphs/autoscaling_experiments/online_boutique_benchmark_empty_filter_40_horizontal_rs-empty-filter_stats.csv\n",
      "/Users/jessicaberg/Documents/Tracing/tracing_env/kubernetes_env/benchmark/graphs/autoscaling_experiments/online_boutique_benchmark_snicket_filter_distributed_40_horizontal_snicket_filter_distributed_stats.csv\n"
     ]
    }
   ],
   "source": [
    "dfs = []\n",
    "pref_path = \"Aggregated\"\n",
    "for stat_file in stats:\n",
    "    print(stat_file)\n",
    "    df = pd.read_csv(stat_file)\n",
    "    latency = []                                                            \n",
    "    percentages = [10, 20, 30, 40, 50, 66, 75, 80, 90, 95, 98, 99, 100]\n",
    "    \n",
    "    path_df = df.loc[df[\"Name\"] == pref_path]                            \n",
    "    for percentile in percentages:                                          \n",
    "        key = str(percentile)                                               \n",
    "        latency.append(float(path_df[f\"{key}%\"]))                           \n",
    "    dfs.append(                                                             \n",
    "        pd.DataFrame({                                                      \n",
    "            \"Latency (ms)\": latency,                                        \n",
    "            \"Percent\": percentages                                          \n",
    "    }))\n",
    "    "
   ]
  },
  {
   "cell_type": "code",
   "execution_count": 5,
   "id": "f3ef972f-c60d-45c5-a4f3-8f9847679087",
   "metadata": {},
   "outputs": [
    {
     "data": {
      "image/png": "[encoded data removed]",
      "text/plain": [
       "<Figure size 432x288 with 1 Axes>"
      ]
     },
     "metadata": {
      "needs_background": "light"
     },
     "output_type": "display_data"
    }
   ],
   "source": [
    "for df in dfs:\n",
    "    sns.lineplot(data=df, x=\"Latency (ms)\", y=\"Percent\")\n",
    "plt.legend(labels=[\"No filter\", \"Empty filter\", \"Snicket\"], loc=\"lower right\")                                              \n",
    "plt.xlim(0,200)                                                        \n",
    "plt.title(f\"Latencies\") \n",
    "new_pref_path = pref_path.replace('/', '')\n",
    "save_fig_name = f\"{graph_lib}/autoscaling_experiments/latencies.pdf\"\n",
    "plt.savefig(save_fig_name,format='pdf') "
   ]
  },
  {
   "cell_type": "code",
   "execution_count": 23,
   "id": "5020474c-0220-4ce2-bce4-a84af80829a1",
   "metadata": {},
   "outputs": [
    {
     "data": {
      "text/plain": [
       "<Figure size 432x288 with 0 Axes>"
      ]
     },
     "metadata": {},
     "output_type": "display_data"
    }
   ],
   "source": []
  },
  {
   "cell_type": "code",
   "execution_count": null,
   "id": "94330da8-0f68-49ab-aef0-91c97f7439f9",
   "metadata": {},
   "outputs": [],
   "source": []
  }
 ],
 "metadata": {
  "kernelspec": {
   "display_name": "Python 3",
   "language": "python",
   "name": "python3"
  },
  "language_info": {
   "codemirror_mode": {
    "name": "ipython",
    "version": 3
   },
   "file_extension": ".py",
   "mimetype": "text/x-python",
   "name": "python",
   "nbconvert_exporter": "python",
   "pygments_lexer": "ipython3",
   "version": "3.9.5"
  }
 },
 "nbformat": 4,
 "nbformat_minor": 5
}
